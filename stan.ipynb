{
 "cells": [
  {
   "cell_type": "code",
   "execution_count": 1,
   "metadata": {},
   "outputs": [],
   "source": [
    "import nest_asyncio     # needed in order to get\n",
    "nest_asyncio.apply()    # pystan to run properly\n",
    "###\n",
    "import stan\n",
    "import pandas as pd\n",
    "import numpy as np\n",
    "from matplotlib import pyplot as plt\n",
    "from pathlib import Path\n",
    "from patsy import dmatrix, dmatrices\n",
    "\n",
    "import theano\n",
    "\n",
    "\n",
    "import aesara_theano_fallback.tensor as tt\n",
    "\n",
    "RANDOM_SEED = 1\n",
    "\n",
    "NUM_CHAINS = 2\n",
    "NUM_SAMPLES = 1000\n",
    "\n",
    "# https://linuxtut.com/en/c17070e3b242b0d62c39/\n",
    "def waic(fit):\n",
    "    sel_col = [col for col in fit.to_frame() if col.startswith('log_lik')]\n",
    "    log_lik = fit.to_frame()[sel_col]\n",
    "    lppd = np.log(np.exp(log_lik).mean(axis=0)).sum()\n",
    "    p_waic = np.var(log_lik, axis=0).sum()\n",
    "    waic = -2*lppd + 2*p_waic\n",
    "    return round(waic, 3)\n",
    "\n",
    "\n",
    "fn = 'data.csv'\n",
    "\n",
    "data_fp = Path(fn)\n",
    "data = pd.read_csv(data_fp)\n",
    "data = data.rename(columns={'zscores': 'zscore'})\n",
    "data = data[data['island'] != 'filler']\n",
    "data = data.reset_index(drop=True)\n",
    "\n",
    "data['subject'] = data['subject'].astype('category')\n",
    "data['judgment'] = (data['judgment']-1).astype('category')\n",
    "data['item'] = data['item'].astype('category')\n",
    "data['dependency'] = data['dependency'].astype('category')\n",
    "data['island'] = data['island'].astype('category')\n",
    "data['structure'] = data['structure'].astype('category')\n",
    "data['distance'] = data['distance'].astype('category')\n",
    "\n",
    "data['itemID'] = data['item'].cat.codes\n",
    "data['itemID'] = data['itemID'].astype('category')\n",
    "data['subjectID'] = data['subject'].cat.codes\n",
    "data['subjectID'] = data['subjectID'].astype('category')\n",
    "data['islandID'] = data['island'].cat.codes\n",
    "data['islandID'] = data['islandID'].astype('category')\n",
    "\n",
    "model_code = \"\"\"\n",
    "data {\n",
    "    int<lower=1> N; // number of samples/observations\n",
    "    int<lower=0> K; // number of predictors - 1 (intercept)\n",
    "    matrix[N,K]  X; // matrix of predictors\n",
    "    vector[N]    y; // observed zscores\n",
    "}\n",
    "parameters {\n",
    "    real alpha;\n",
    "    vector[K] beta;\n",
    "    real<lower=0> sigma;\n",
    "}\n",
    "model {\n",
    "    // priors\n",
    "    // likelihood\n",
    "    y ~ normal(X * beta, sigma); \n",
    "}\n",
    "generated quantities {\n",
    "    vector[N] log_lik;\n",
    "    for (i in 1:N)\n",
    "        log_lik[i] = normal_lpdf(y[i] | X * beta, sigma);\n",
    "}\n",
    "\"\"\"\n",
    "X = dmatrices(\"zscore ~ dependency*island*structure*distance\", data)\n",
    "y = [x[0] for x in X[0]]\n",
    "model_data = {\n",
    "    'N': X[1].shape[0],\n",
    "    'K': X[1].shape[1],\n",
    "    'X': X[1],\n",
    "    'y': y,\n",
    "}"
   ]
  },
  {
   "cell_type": "code",
   "execution_count": null,
   "metadata": {},
   "outputs": [],
   "source": [
    "posterior = stan.build(model_code, model_data, \n",
    "                       random_seed=RANDOM_SEED)"
   ]
  },
  {
   "cell_type": "code",
   "execution_count": null,
   "metadata": {},
   "outputs": [],
   "source": [
    "# num chains & samples set low just to make sure it runs\n",
    "fit = posterior.sample(num_chains=4,\n",
    "                       num_samples=1000 \n",
    ")\n",
    "fit_df = fit.to_frame()"
   ]
  },
  {
   "cell_type": "code",
   "execution_count": null,
   "metadata": {},
   "outputs": [],
   "source": [
    "waic(fit)"
   ]
  }
 ],
 "metadata": {
  "interpreter": {
   "hash": "6f0c9050fb0ecff4ad6883c06443c7ab4885c2930e6873f5663cfc6e82d1cf74"
  },
  "kernelspec": {
   "display_name": "Python 3.9.7 ('catvio')",
   "language": "python",
   "name": "python3"
  },
  "language_info": {
   "codemirror_mode": {
    "name": "ipython",
    "version": 3
   },
   "file_extension": ".py",
   "mimetype": "text/x-python",
   "name": "python",
   "nbconvert_exporter": "python",
   "pygments_lexer": "ipython3",
   "version": "3.9.7"
  },
  "orig_nbformat": 4
 },
 "nbformat": 4,
 "nbformat_minor": 2
}
